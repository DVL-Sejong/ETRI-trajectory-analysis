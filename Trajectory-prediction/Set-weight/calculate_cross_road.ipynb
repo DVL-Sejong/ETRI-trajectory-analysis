{
 "cells": [
  {
   "cell_type": "code",
   "execution_count": null,
   "id": "1ea057e8",
   "metadata": {},
   "outputs": [],
   "source": [
    "import pandas as pd"
   ]
  },
  {
   "cell_type": "code",
   "execution_count": null,
   "id": "99ac349a",
   "metadata": {},
   "outputs": [],
   "source": [
    "edge = pd.read_csv('data/SanFrancisco.csv')\n",
    "speed = pd.read_csv('data/speed.csv')"
   ]
  },
  {
   "cell_type": "code",
   "execution_count": null,
   "id": "35075e38",
   "metadata": {},
   "outputs": [],
   "source": [
    "temp = np.zeros((168, 4468))\n",
    "for i in range(4468):\n",
    "    for j in range(168):\n",
    "        temp[j, i] = edge['length'][i] / (speed * 5 / 18)\n",
    "cross_road = pd.DataFrame(temp)"
   ]
  },
  {
   "cell_type": "code",
   "execution_count": null,
   "id": "9f2178b9",
   "metadata": {},
   "outputs": [],
   "source": [
    "for i in range(4468):\n",
    "    for j in range(168):\n",
    "        if cross_road.loc[j, i] == 0:\n",
    "            if cross_road.sum() == 0:\n",
    "                cross_road.loc[j, i] = edge['length'][i] / (20 * 5 / 18)\n",
    "            else:\n",
    "                min = 10000\n",
    "                for k in range(168):\n",
    "                    if cross_road.loc[j, i] < min:\n",
    "                        min = cross_road.loc[j, i]\n",
    "                cross_road.loc[j, i] = min\n",
    "cross_road.to_csv('data/cross_road.csv')"
   ]
  }
 ],
 "metadata": {
  "kernelspec": {
   "display_name": "Python 3 (ipykernel)",
   "language": "python",
   "name": "python3"
  },
  "language_info": {
   "codemirror_mode": {
    "name": "ipython",
    "version": 3
   },
   "file_extension": ".py",
   "mimetype": "text/x-python",
   "name": "python",
   "nbconvert_exporter": "python",
   "pygments_lexer": "ipython3",
   "version": "3.7.13"
  }
 },
 "nbformat": 4,
 "nbformat_minor": 5
}
