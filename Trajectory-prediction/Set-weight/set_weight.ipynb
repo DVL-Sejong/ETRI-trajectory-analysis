{
 "cells": [
  {
   "cell_type": "code",
   "execution_count": null,
   "id": "295b81a4",
   "metadata": {},
   "outputs": [],
   "source": [
    "import pandas as pd\n",
    "import numpy as np"
   ]
  },
  {
   "cell_type": "code",
   "execution_count": null,
   "id": "eaf14b57",
   "metadata": {},
   "outputs": [],
   "source": [
    "use = pd.read_csv('data/useProbability.csv')\n",
    "cross = pd.read_csv('data/cross_road.csv')"
   ]
  },
  {
   "cell_type": "code",
   "execution_count": null,
   "id": "4bfefd9a",
   "metadata": {},
   "outputs": [],
   "source": [
    "temp = np.zeros((168, 4468))"
   ]
  },
  {
   "cell_type": "code",
   "execution_count": null,
   "id": "b1d97b6e",
   "metadata": {},
   "outputs": [],
   "source": [
    "for i in range(4468):\n",
    "    for j in range(168):\n",
    "        temp[j, i] = round(use.loc[j, i] * cross.loc[j, i], 2)\n",
    "weight = pd.DataFrame(temp)\n",
    "weight.to_csv('data/weight.csv', index=False)"
   ]
  }
 ],
 "metadata": {
  "kernelspec": {
   "display_name": "Python 3 (ipykernel)",
   "language": "python",
   "name": "python3"
  },
  "language_info": {
   "codemirror_mode": {
    "name": "ipython",
    "version": 3
   },
   "file_extension": ".py",
   "mimetype": "text/x-python",
   "name": "python",
   "nbconvert_exporter": "python",
   "pygments_lexer": "ipython3",
   "version": "3.7.13"
  }
 },
 "nbformat": 4,
 "nbformat_minor": 5
}
