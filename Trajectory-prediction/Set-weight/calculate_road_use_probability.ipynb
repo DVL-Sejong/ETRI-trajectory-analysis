{
 "cells": [
  {
   "cell_type": "code",
   "execution_count": null,
   "id": "629adfd2",
   "metadata": {},
   "outputs": [],
   "source": [
    "import pandas as pd"
   ]
  },
  {
   "cell_type": "code",
   "execution_count": null,
   "id": "a7e7b304",
   "metadata": {},
   "outputs": [],
   "source": [
    "volume = pd.read_csv('data/volume.csv')"
   ]
  },
  {
   "cell_type": "code",
   "execution_count": null,
   "id": "a52ff481",
   "metadata": {},
   "outputs": [],
   "source": [
    "prev = 0\n",
    "cnt = 0\n",
    "wIdx = 0\n",
    "check = 0\n",
    "weight = np.zeros((168,4468))\n",
    "\n",
    "for i in range(4468):\n",
    "    for j in range(168):\n",
    "        if edge['u'][i] == edge['u'][prev]:\n",
    "            cnt += volume.loc[j, str(i)]\n",
    "        else:\n",
    "            while wIdx < i:\n",
    "                if cnt == 0:\n",
    "                    weight[j, wIdx] = 0\n",
    "                else:\n",
    "                    weight[j, wIdx] = (100 - ((round(df.loc[j, str(wIdx)] / cnt, 2) // 0.01) * 0.2)) / 100\n",
    "                wIdx += 1\n",
    "            cnt = volume.loc[12, str(wIdx)]\n",
    "        prev = i"
   ]
  },
  {
   "cell_type": "code",
   "execution_count": null,
   "id": "aa3bfc95",
   "metadata": {},
   "outputs": [],
   "source": [
    "weight.to_csv('data/useProbability.csv', index=False)"
   ]
  }
 ],
 "metadata": {
  "kernelspec": {
   "display_name": "Python 3 (ipykernel)",
   "language": "python",
   "name": "python3"
  },
  "language_info": {
   "codemirror_mode": {
    "name": "ipython",
    "version": 3
   },
   "file_extension": ".py",
   "mimetype": "text/x-python",
   "name": "python",
   "nbconvert_exporter": "python",
   "pygments_lexer": "ipython3",
   "version": "3.7.13"
  }
 },
 "nbformat": 4,
 "nbformat_minor": 5
}
