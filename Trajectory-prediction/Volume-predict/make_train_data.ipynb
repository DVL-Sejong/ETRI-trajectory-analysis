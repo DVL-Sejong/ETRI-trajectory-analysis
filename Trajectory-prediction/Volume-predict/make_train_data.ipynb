{
 "cells": [
  {
   "cell_type": "code",
   "execution_count": null,
   "id": "308d72b1",
   "metadata": {},
   "outputs": [],
   "source": [
    "from fmm import FastMapMatch,Network,NetworkGraph,UBODTGenAlgorithm,UBODT,FastMapMatchConfig\n",
    "from fmm import Network,NetworkGraph,STMATCH,STMATCHConfig\n",
    "from shapely.geometry import LineString,shape, mapping\n",
    "import datetime\n",
    "from tqdm import tqdm\n",
    "import os, glob\n",
    "import pandas as pd\n",
    "import datetime\n",
    "import numpy as np\n",
    "from pandas import HDFStore\n",
    "from tqdm import tqdm\n",
    "from haversine import haversine\n",
    "import math"
   ]
  },
  {
   "cell_type": "code",
   "execution_count": null,
   "id": "6d145b95",
   "metadata": {},
   "outputs": [],
   "source": [
    "a = np.empty((600,4468))\n",
    "a = a.astype('int16')\n",
    "start = datetime.datetime(2008, 5, 17, 10, 0, 0)\n",
    "\n",
    "for t in tqdm(f_name):\n",
    "    df2 = pd.read_csv(path + t + '.csv', index_col = 0)\n",
    "   \n",
    "    for wkt, ti in zip(df2['LineString'], df2['StartTime']):\n",
    "        \n",
    "        result = fmm_model.match_wkt(wkt, fmm_config)\n",
    "        \n",
    "        candidates = []\n",
    "        for c in result.candidates:\n",
    "            candidates.append((c.edge_id,c.source,c.target,c.error,c.length,c.offset,c.spdist,c.ep,c.tp))\n",
    "            \n",
    "        df_c = pd.DataFrame(candidates, columns=[\"eid\",\"source\",\"target\",\"error\",\"length\",\"offset\",\"spdist\",\"ep\",\"tp\"])\n",
    "        \n",
    "        now_time = ti\n",
    "        \n",
    "        if now_time.count(':') == 1:\n",
    "            now_time += ':00'\n",
    "        cnow_time = datetime.datetime.strptime(now_time, \"%Y-%m-%d %H:%M:%S\")\n",
    "        cnow_time = cnow_time.replace(second=0)\n",
    "        \n",
    "        for e in zip(df_c['eid']):\n",
    "            index = int((((cnow_time - start).total_seconds()) / 60) // 60)\n",
    "            a[index][e[0]] += 1 \n",
    "            cnow_time += datetime.timedelta(minutes=1)\n",
    "\n",
    "train = pd.DataFrame(a)"
   ]
  },
  {
   "cell_type": "code",
   "execution_count": null,
   "id": "5d5a3368",
   "metadata": {},
   "outputs": [],
   "source": [
    "train.to_csv('data/train.csv', index=False)\n",
    "train.to_hdf('dcrnn/data//SanFrancisco.h5', 'df', format='table')"
   ]
  }
 ],
 "metadata": {
  "kernelspec": {
   "display_name": "Python 3 (ipykernel)",
   "language": "python",
   "name": "python3"
  },
  "language_info": {
   "codemirror_mode": {
    "name": "ipython",
    "version": 3
   },
   "file_extension": ".py",
   "mimetype": "text/x-python",
   "name": "python",
   "nbconvert_exporter": "python",
   "pygments_lexer": "ipython3",
   "version": "3.7.13"
  }
 },
 "nbformat": 4,
 "nbformat_minor": 5
}
