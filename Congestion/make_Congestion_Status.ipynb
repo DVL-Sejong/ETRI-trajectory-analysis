{
 "cells": [
  {
   "cell_type": "code",
   "execution_count": null,
   "id": "59807a9b",
   "metadata": {},
   "outputs": [],
   "source": [
    "import pandas as pd\n",
    "import numpy as np\n",
    "import os, glob"
   ]
  },
  {
   "cell_type": "code",
   "execution_count": null,
   "id": "de00ab8c",
   "metadata": {},
   "outputs": [],
   "source": [
    "path = os.getcwd() + 'data/queue/'"
   ]
  },
  {
   "cell_type": "code",
   "execution_count": null,
   "id": "b59450f2",
   "metadata": {},
   "outputs": [],
   "source": [
    "congestionWeek = np.zeros((168, 4468))\n",
    "congestionDay = np.zeros((24, 4468))"
   ]
  },
  {
   "cell_type": "code",
   "execution_count": null,
   "id": "b8c5585c",
   "metadata": {},
   "outputs": [],
   "source": [
    "for i in range(4468):\n",
    "    df = pd.read_csv(path + 'queueLen_' + str(i) + '.csv', index_col = 0)\n",
    "    \n",
    "    for j in range(168):\n",
    "        if df['congestion'][j] == 1:\n",
    "            congestionWeek[j, i] = 1\n",
    "            congestionDay[j%24, i] = 1"
   ]
  },
  {
   "cell_type": "code",
   "execution_count": null,
   "id": "4f3b4fdc",
   "metadata": {},
   "outputs": [],
   "source": [
    "week = pd.DataFrame(congestionWeek)\n",
    "day = pd.DataFrame(congestionDay)\n",
    "\n",
    "week.to_csv('data/congestionWeek.csv', index=False)\n",
    "day.to_csv('data/congestionDay.csv', index=False)"
   ]
  }
 ],
 "metadata": {
  "kernelspec": {
   "display_name": "Python 3 (ipykernel)",
   "language": "python",
   "name": "python3"
  },
  "language_info": {
   "codemirror_mode": {
    "name": "ipython",
    "version": 3
   },
   "file_extension": ".py",
   "mimetype": "text/x-python",
   "name": "python",
   "nbconvert_exporter": "python",
   "pygments_lexer": "ipython3",
   "version": "3.7.13"
  }
 },
 "nbformat": 4,
 "nbformat_minor": 5
}
