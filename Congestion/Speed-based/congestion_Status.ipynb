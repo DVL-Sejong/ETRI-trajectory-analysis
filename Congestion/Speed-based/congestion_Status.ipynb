{
 "cells": [
  {
   "cell_type": "code",
   "execution_count": 4,
   "id": "8eb5f2be",
   "metadata": {},
   "outputs": [],
   "source": [
    "import pandas as pd\n",
    "import numpy as np"
   ]
  },
  {
   "cell_type": "code",
   "execution_count": 6,
   "id": "1ca5236a",
   "metadata": {},
   "outputs": [],
   "source": [
    "df = pd.read_csv('data/speed.csv')\n",
    "edge = pd.read_csv('data/Porto_edges.csv')\n",
    "ffs = pd.read_csv('data/limitSpeed.csv', index=False)"
   ]
  },
  {
   "cell_type": "code",
   "execution_count": null,
   "id": "112470ae",
   "metadata": {},
   "outputs": [],
   "source": [
    "congestion = np.zeros((len(df.columns), len(df.index)))"
   ]
  },
  {
   "cell_type": "code",
   "execution_count": null,
   "id": "c064e5ba",
   "metadata": {},
   "outputs": [],
   "source": [
    "for i in range(len(df.columns)):\n",
    "    for j in range(len(df.index)):\n",
    "        if np.isnan(df.loc[i, j]):\n",
    "            congestion[i, j] = -1\n",
    "        else:\n",
    "            if np.isnan(edge.maxspeed[df.columns]):\n",
    "                if df.loc[i, j] <= (edge.maxspeed[df.columns] * 0.6):\n",
    "                    congestion[i, j] = 1\n",
    "                else:\n",
    "                    congestion[i, j] = 0\n",
    "            else:\n",
    "                if df.loc[i, j] <= (ffs.at[0, df.columns] * 0.6):\n",
    "                    congestion[i, j] = 1\n",
    "                else:\n",
    "                    congestion[i, j] = 0"
   ]
  },
  {
   "cell_type": "code",
   "execution_count": null,
   "id": "7d351171",
   "metadata": {},
   "outputs": [],
   "source": [
    "congestionStatus = pd.DataFrame(congestion)\n",
    "congestionStatus.to_csv('data/congestionStatus.csv')"
   ]
  }
 ],
 "metadata": {
  "kernelspec": {
   "display_name": "Python 3 (ipykernel)",
   "language": "python",
   "name": "python3"
  },
  "language_info": {
   "codemirror_mode": {
    "name": "ipython",
    "version": 3
   },
   "file_extension": ".py",
   "mimetype": "text/x-python",
   "name": "python",
   "nbconvert_exporter": "python",
   "pygments_lexer": "ipython3",
   "version": "3.8.0"
  }
 },
 "nbformat": 4,
 "nbformat_minor": 5
}
