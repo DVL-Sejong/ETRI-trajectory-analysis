{
 "cells": [
  {
   "cell_type": "code",
   "execution_count": 35,
   "id": "dafc287a",
   "metadata": {},
   "outputs": [],
   "source": [
    "from fmm import FastMapMatch,Network,NetworkGraph,UBODTGenAlgorithm,UBODT,FastMapMatchConfig\n",
    "from fmm import Network,NetworkGraph,STMATCH,STMATCHConfig\n",
    "from shapely.geometry import LineString,shape, mapping\n",
    "import os, glob\n",
    "import pandas as pd\n",
    "import datetime\n",
    "import numpy as np\n",
    "from pandas import HDFStore\n",
    "from tqdm import tqdm\n",
    "from haversine import haversine\n",
    "import math"
   ]
  },
  {
   "cell_type": "code",
   "execution_count": null,
   "id": "23130fb0",
   "metadata": {},
   "outputs": [],
   "source": [
    "nodes = pd.read_csv('data/SanFrancisco_nodes.csv')\n",
    "edges = pd.read_csv('data/SanFrancisco_edges.csv')"
   ]
  },
  {
   "cell_type": "code",
   "execution_count": null,
   "id": "9809aa27",
   "metadata": {},
   "outputs": [],
   "source": [
    "network = Network(\"small-Sanf/edges.shp\",\"fid\", \"u\", \"v\")\n",
    "print \"Nodes {} edges {}\".format(network.get_node_count(),network.get_edge_count())\n",
    "graph = NetworkGraph(network)"
   ]
  },
  {
   "cell_type": "code",
   "execution_count": null,
   "id": "9ba8b505",
   "metadata": {},
   "outputs": [],
   "source": [
    "ubodt = UBODT.read_ubodt_csv(\"network-SanFrancisco/ubodt.txt\")\n",
    "\n",
    "fmm_model = FastMapMatch(network,graph,ubodt)\n",
    "\n",
    "k = 8\n",
    "radius = 0.003\n",
    "gps_error = 0.0005\n",
    "fmm_config = FastMapMatchConfig(k,radius,gps_error)"
   ]
  },
  {
   "cell_type": "code",
   "execution_count": null,
   "id": "8a0d81b6",
   "metadata": {},
   "outputs": [],
   "source": [
    "path = os.getcwd() +'/data/cabspottingdata/Multiple_Trajectories/Single_Trajectory/'\n",
    "file_list = os.listdir(path)\n",
    "f_name=[]\n",
    "for filename in file_list:\n",
    "    if os.path.splitext(filename)[1] == '.csv':\n",
    "        f_name.append(os.path.splitext(filename)[0])"
   ]
  },
  {
   "cell_type": "code",
   "execution_count": null,
   "id": "0fcb8e89",
   "metadata": {},
   "outputs": [],
   "source": [
    "def move1sec(start, destination, speed):\n",
    "\n",
    "    Lat1 = math.radians(start[0])\n",
    "    Lat2 = math.radians(destination[0])\n",
    "    Lng1 = math.radians(start[1])\n",
    "    Lng2 = math.radians(destination[1])\n",
    "\n",
    "    y = math.sin(Lng2-Lng1)*math.cos(Lat2)\n",
    "    x = math.cos(Lat1)*math.sin(Lat2)-math.sin(Lat1)*math.cos(Lat2)*math.cos(Lng2-Lng1)\n",
    "    z = math.atan2(y, x)\n",
    "\n",
    "    a = np.rad2deg(z)\n",
    "\n",
    "    brng = math.radians(a)\n",
    "\n",
    "    R = 6378.1\n",
    "    d = (((speed * 5) / 18) / 1000)\n",
    "\n",
    "    lat2 = math.asin(math.sin(Lat1) * math.cos(d/R) + math.cos(Lat1) * math.sin(d/R) * math.cos(brng))\n",
    "    lon2 = Lng1 + math.atan2(math.sin(brng)*math.sin(d/R)*math.cos(Lat1),math.cos(d/R)-math.sin(Lat1)*math.sin(Lat2))\n",
    "    lat2 = math.degrees(lat2)\n",
    "    lon2 = math.degrees(lon2)\n",
    "    \n",
    "    return lat2, lon2"
   ]
  },
  {
   "cell_type": "code",
   "execution_count": null,
   "id": "f8d572e7",
   "metadata": {},
   "outputs": [],
   "source": [
    "a = np.zeros((1,4468))\n",
    "a = a.astype('int16')\n",
    "list1 = [[] for i in range(4468)]\n",
    "start = datetime.datetime(2008, 5, 17, 10, 0, 0)"
   ]
  },
  {
   "cell_type": "code",
   "execution_count": null,
   "id": "f282766a",
   "metadata": {},
   "outputs": [],
   "source": [
    "for t in tqdm(f_name):\n",
    "    df = pd.read_csv(path + t + '.csv', index_col = 0)\n",
    "    \n",
    "    for wkt, ti, cnt in tqdm(zip(df['LineString'], df['StartTime'], df['Num_p'])):\n",
    "        result = fmm_model.match_wkt(wkt, fmm_config)\n",
    "        \n",
    "        candidates = []\n",
    "        for c in result.candidates:\n",
    "            candidates.append((c.edge_id,c.source,c.target,c.error,c.length,c.offset,c.spdist,c.ep,c.tp))\n",
    "            \n",
    "        df_c = pd.DataFrame(candidates, columns=[\"eid\",\"source\",\"target\",\"error\",\"length\",\"offset\",\"spdist\",\"ep\",\"tp\"])\n",
    "        df_c['speed'] = df_c['spdist'] * 6000\n",
    "        \n",
    "        temp_point = result.pgeom.export_wkt()\n",
    "        now_time = ti\n",
    "        \n",
    "        if now_time.count(':') == 1:\n",
    "            now_time += ':00'\n",
    "        cnow_time = datetime.datetime.strptime(now_time, \"%Y-%m-%d %H:%M:%S\")\n",
    "        cnow_time = cnow_time.replace(second=0)\n",
    "        cnow_time += datetime.timedelta(minutes=1)\n",
    "        point = temp_point[11:-1].split(',')\n",
    "        \n",
    "        for i in range(1, len(df_c) -1):\n",
    "            st = str(cnow_time.weekday()) + ':' + str(cnow_time.hour) + ':' + str(cnow_time.minute)\n",
    "            checkM = 0\n",
    "            flag = 0\n",
    "            temp = point[i].split(' ')\n",
    "            cCodi = (float(temp[1]), float(temp[0]))\n",
    "            id = nodes.loc[nodes['osmid']== edges['u'][df_c['eid'][i]]].index[0]\n",
    "            temp = nodes.geometry[id][7:-1].split(' ')\n",
    "            sCodi = (float(temp[1]), float(temp[0]))\n",
    "            count = 0\n",
    "            est = df_c['speed'][i]\n",
    "            if est <= 5:\n",
    "                continue\n",
    "            flag = 1\n",
    "            while haversine(cCodi, sCodi, unit='m') >= (est * 5) / 18:\n",
    "                cCodi = move1sec(cCodi, sCodi, est)\n",
    "                count += 1\n",
    "                if count >= 60:\n",
    "                    continue\n",
    "            if flag == 1:\n",
    "                while df_c['eid'][i] == df_c['eid'][i + 1]:\n",
    "                    if i == len(df_c) - 2:\n",
    "                        break\n",
    "                    i += 1\n",
    "                    checkM += 1\n",
    "                temp = point[i].split(' ')\n",
    "                cCodi = (float(temp[1]), float(temp[0]))\n",
    "                p3Time = count + (checkM * 60)\n",
    "                id = nodes.loc[nodes['osmid']== edges['v'][df_c['eid'][i]]].index[0]\n",
    "                temp = nodes.geometry[id][7:-1].split(' ')\n",
    "                dCodi = (float(temp[1]), float(temp[0]))\n",
    "                count = 0\n",
    "                est = df_c['speed'][i + 1]\n",
    "                if est <= 5:\n",
    "                    continue\n",
    "                while haversine(cCodi, dCodi, unit='m') >= (est * 5) / 18:\n",
    "                    cCodi = move1sec(cCodi, dCodi, est)\n",
    "                    count += 1\n",
    "                    if count >= 60:\n",
    "                        continue\n",
    "                p4Time = p3Time + count\n",
    "                flag = 0\n",
    "            \n",
    "            list1[df_c['eid'][i]].append(st+', ' + str(p4Time))"
   ]
  },
  {
   "cell_type": "code",
   "execution_count": null,
   "id": "2b32c7db",
   "metadata": {},
   "outputs": [],
   "source": [
    "idi = pd.DataFrame(list1)\n",
    "idi.to_csv('small-Sanf/queue.csv')"
   ]
  }
 ],
 "metadata": {
  "kernelspec": {
   "display_name": "Python 3 (ipykernel)",
   "language": "python",
   "name": "python3"
  },
  "language_info": {
   "codemirror_mode": {
    "name": "ipython",
    "version": 3
   },
   "file_extension": ".py",
   "mimetype": "text/x-python",
   "name": "python",
   "nbconvert_exporter": "python",
   "pygments_lexer": "ipython3",
   "version": "3.7.13"
  }
 },
 "nbformat": 4,
 "nbformat_minor": 5
}
