{
 "cells": [
  {
   "cell_type": "code",
   "execution_count": 1,
   "id": "4675659c",
   "metadata": {},
   "outputs": [],
   "source": [
    "import pandas as pd\n",
    "import numpy as np\n",
    "import math\n",
    "import matplotlib.pyplot as plt\n",
    "from tqdm import tqdm"
   ]
  },
  {
   "cell_type": "code",
   "execution_count": null,
   "id": "4bb945a4",
   "metadata": {},
   "outputs": [],
   "source": [
    "idList = []\n",
    "for i in range(168):\n",
    "    idList.append(i)\n",
    "queue = pd.read_csv('data/queue.csv', index_col='Unnamed: 0')"
   ]
  },
  {
   "cell_type": "code",
   "execution_count": 3,
   "id": "62258716",
   "metadata": {},
   "outputs": [],
   "source": [
    "edge=pd.read_csv('data/SanFrancisco_edges.csv')"
   ]
  },
  {
   "cell_type": "code",
   "execution_count": null,
   "id": "4dad6581",
   "metadata": {},
   "outputs": [],
   "source": [
    "for i in tqdm(range(4468)):\n",
    "    flag = 0\n",
    "    p2x = [[] for row in range(168)]\n",
    "    p2y = [[] for row in range(168)]\n",
    "    p3x = [[] for row in range(168)]\n",
    "    p3y = [[] for row in range(168)]\n",
    "    spd = [[] for row in range(168)]\n",
    "    func = pd.DataFrame(columns={'length', 'travel_speed', 'edge_len/Cycle', 'distance_per_cycle', '2', '3', 'congestion'}, index = idList)\n",
    "    for j in range(2145):\n",
    "        if pd.isnull(queue.loc[i][j]):\n",
    "            break\n",
    "        temp = queue.loc[i][j].split(', ')\n",
    "        st = temp[0].split(' ')       \n",
    "        st2 = temp[1].split(' ')\n",
    "        spd[(int(temp[3]) * 24) + int(temp[4])].append(int(temp[2]))\n",
    "        p2x[(int(temp[3]) * 24) + int(temp[4])].append(int(st[1]))\n",
    "        p2y[(int(temp[3]) * 24) + int(temp[4])].append(float(st[0]))\n",
    "        p3x[(int(temp[3]) * 24) + int(temp[4])].append(int(st2[1]))\n",
    "        p3y[(int(temp[3]) * 24) + int(temp[4])].append(float(st2[0]))\n",
    "    for k in range(168):\n",
    "        if len(p2x[k]) == 0 or len(p2x[k]) == 1:\n",
    "            continue\n",
    "        else:\n",
    "            n = np.polyfit(p2x[k], p2y[k], 1)\n",
    "            a = round(n[0], 6)\n",
    "            b = round(n[1], 6)\n",
    "\n",
    "            n = np.polyfit(p3x[k], p3y[k], 1)\n",
    "            c = round(n[0], 6)\n",
    "            d = round(n[1], 6)\n",
    "            \n",
    "            if a - c != 0:\n",
    "                le = a * ((d - b) / (a - c)) + b\n",
    "                if le > 0:\n",
    "                    cycle = (sum(p3x[k]) - sum(p2x[k])) / len(p2x[k])\n",
    "                    # 155초 미만 30초\n",
    "                    if cycle < 155:\n",
    "                        cycle = 30\n",
    "                    # 155이상 185 미만 50초\n",
    "                    elif cycle >= 155 and cycle < 185:\n",
    "                        cycle = 50\n",
    "                    else: # 185 이상은 좌회전 신호가 따로 있을것이므로 40초\n",
    "                        cycle = 40\n",
    "                    flag = 1\n",
    "                    func.loc[k]['length'] = le\n",
    "                    func.loc[k]['travel_speed'] = edge.loc[i]['length'] / (sum(spd[k]) / len(spd[k]))\n",
    "                    func.loc[k]['edge_len/Cycle'] = edge.loc[i]['length'] / cycle\n",
    "                    func.loc[k]['distance_per_cycle'] = func.loc[k]['travel_speed'] * cycle\n",
    "                    if func.loc[k]['edge_len/Cycle'] > func.loc[k]['travel_speed']:\n",
    "                        func.loc[k]['2'] = 1\n",
    "                    else:\n",
    "                        func.loc[k]['2'] = 0\n",
    "                    if func.loc[k]['length'] > func.loc[k]['distance_per_cycle']:\n",
    "                        func.loc[k]['3'] = 1\n",
    "                    else:\n",
    "                        func.loc[k]['3'] = 0\n",
    "                    \n",
    "                    if func.loc[k]['2'] + func.loc[k]['3'] == 2:\n",
    "                        func.loc[k]['congestion'] = 1\n",
    "                    else:\n",
    "                        func.loc[k]['congestion'] = 0\n",
    "    func.to_csv('data/queue/queueLen_' + str(i) + '.csv')"
   ]
  },
  {
   "cell_type": "code",
   "execution_count": null,
   "id": "2ec52418",
   "metadata": {},
   "outputs": [],
   "source": []
  }
 ],
 "metadata": {
  "kernelspec": {
   "display_name": "Python 3 (ipykernel)",
   "language": "python",
   "name": "python3"
  },
  "language_info": {
   "codemirror_mode": {
    "name": "ipython",
    "version": 3
   },
   "file_extension": ".py",
   "mimetype": "text/x-python",
   "name": "python",
   "nbconvert_exporter": "python",
   "pygments_lexer": "ipython3",
   "version": "3.7.13"
  }
 },
 "nbformat": 4,
 "nbformat_minor": 5
}
