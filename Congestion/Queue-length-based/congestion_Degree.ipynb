{
 "cells": [
  {
   "cell_type": "code",
   "execution_count": null,
   "id": "6eca1e41",
   "metadata": {},
   "outputs": [],
   "source": [
    "from statsmodels.tsa.api import VAR, AutoReg\n",
    "from statsmodels.tsa.stattools import adfuller\n",
    "import pandas as pd\n",
    "import numpy as np\n",
    "import matplotlib.pyplot as plt\n",
    "from shapely.geometry import Point, Polygon\n",
    "from statsmodels.tsa.stattools import grangercausalitytests\n",
    "from tqdm import tqdm"
   ]
  },
  {
   "cell_type": "code",
   "execution_count": null,
   "id": "5a8ae881",
   "metadata": {},
   "outputs": [],
   "source": [
    "node = pd.read_csv('data/SanFrancisco_nodes.csv')\n",
    "edge = pd.read_csv('data/SanFrancisco_edges.csv')\n",
    "congestion = pd.read_csv('data/congestionWeek.csv')\n",
    "box = [(-122.4214, 37.7907), (-122.4022, 37.7931), (-122.4013, 37.7885), (-122.4181, 37.7753)]\n",
    "polygon = Polygon(box)"
   ]
  },
  {
   "cell_type": "code",
   "execution_count": null,
   "id": "5c6ffe91",
   "metadata": {},
   "outputs": [],
   "source": [
    "for i in range(4468):\n",
    "    if congestion[str(i)].var() <= 0.01:\n",
    "        congestion = congestion.drop(str(i), axis = 1)\n",
    "        continue\n",
    "    if congestion[str(i)].sum() < 10:\n",
    "        congestion = congestion.drop(str(i), axis = 1)\n",
    "        continue"
   ]
  },
  {
   "cell_type": "code",
   "execution_count": null,
   "id": "0be6bfc7",
   "metadata": {},
   "outputs": [],
   "source": [
    "df = cong\n",
    "df.replace(',', '', regex=True, inplace=True) \n",
    "df = df.apply(pd.to_numeric, errors='coerce') # numeric 변환\n",
    "maxlag= 1\n",
    "test = 'ssr_chi2test'\n",
    "cdlist=[]\n",
    "\n",
    "def grangers_causation_matrix(data, variables, test='ssr_chi2test', verbose=False):    \n",
    "   \n",
    "    df = pd.DataFrame(np.zeros((len(variables), len(variables))), columns=variables, index=variables)\n",
    "    for c in tqdm(df.columns):\n",
    "        for r in df.index:\n",
    "            test_result = grangercausalitytests(data[[r, c]], maxlag=maxlag, verbose=False)\n",
    "            p_values = [round(test_result[i+1][0][test][1],4) for i in range(maxlag)]\n",
    "            if verbose: print(f'Y = {r}, X = {c}, P Values = {p_values}')\n",
    "            min_p_value = np.min(p_values)\n",
    "            if min_p_value < 0.05:\n",
    "                var = VAR(data[[r, c]])\n",
    "                ar = AutoReg(data[[c]], 1)\n",
    "\n",
    "                var_fit = var.fit(maxlags=1)\n",
    "                ar_fit = ar.fit()\n",
    "                cd = np.log(np.var(ar_fit.resid) / np.var(var_fit.resid[c]))\n",
    "                temp = str(r) + ',' + str(c) + ',' + str(cd)\n",
    "                cdlist.append(temp)\n",
    "            df.loc[r, c] = min_p_value\n",
    "    df.columns = [var + '_x' for var in variables]\n",
    "    df.index = [var + '_y' for var in variables]\n",
    "    return df\n",
    "\n",
    "da = grangers_causation_matrix(df, variables = df.columns)"
   ]
  },
  {
   "cell_type": "code",
   "execution_count": null,
   "id": "e72aa6af",
   "metadata": {},
   "outputs": [],
   "source": [
    "cd = pd.DataFrame(columns={'from', 'to', 'density'})\n",
    "for st in tqdm(cdlist):\n",
    "    a = st.split(',')\n",
    "    cd = cd.append({'from': a[0],\n",
    "                   'to': a[1],\n",
    "                   'density': round(float(a[2]), 6)}, ignore_index=True)\n",
    "cd.to_csv('data/single_Degree.csv')"
   ]
  },
  {
   "cell_type": "code",
   "execution_count": null,
   "id": "ee26ce31",
   "metadata": {},
   "outputs": [],
   "source": [
    "cd = pd.DataFrame(columns={'density'}, index=cong.columns)\n",
    "cd=cd.fillna(0)\n",
    "\n",
    "for st in tqdm(cdlist):\n",
    "    a = st.split(',')\n",
    "    cd.loc[a[0], 'density'] += float(a[2])\n",
    "    \n",
    "cd.to_csv('data/congestion_Degree.csv')"
   ]
  }
 ],
 "metadata": {
  "kernelspec": {
   "display_name": "Python 3 (ipykernel)",
   "language": "python",
   "name": "python3"
  },
  "language_info": {
   "codemirror_mode": {
    "name": "ipython",
    "version": 3
   },
   "file_extension": ".py",
   "mimetype": "text/x-python",
   "name": "python",
   "nbconvert_exporter": "python",
   "pygments_lexer": "ipython3",
   "version": "3.7.13"
  }
 },
 "nbformat": 4,
 "nbformat_minor": 5
}
